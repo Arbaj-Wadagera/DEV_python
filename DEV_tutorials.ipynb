{
  "nbformat": 4,
  "nbformat_minor": 0,
  "metadata": {
    "colab": {
      "provenance": [],
      "authorship_tag": "ABX9TyPd4hQkJ5eVDkC5+FQFodSa",
      "include_colab_link": true
    },
    "kernelspec": {
      "name": "python3",
      "display_name": "Python 3"
    },
    "language_info": {
      "name": "python"
    }
  },
  "cells": [
    {
      "cell_type": "markdown",
      "metadata": {
        "id": "view-in-github",
        "colab_type": "text"
      },
      "source": [
        "<a href=\"https://colab.research.google.com/github/Arbaj-Wadagera/DEV_python/blob/main/DEV_tutorials.ipynb\" target=\"_parent\"><img src=\"https://colab.research.google.com/assets/colab-badge.svg\" alt=\"Open In Colab\"/></a>"
      ]
    },
    {
      "cell_type": "code",
      "execution_count": 54,
      "metadata": {
        "colab": {
          "base_uri": "https://localhost:8080/"
        },
        "id": "josU6Js5GSYW",
        "outputId": "733927ee-5a82-4dab-b08c-e9b39c1cb179"
      },
      "outputs": [
        {
          "output_type": "stream",
          "name": "stdout",
          "text": [
            "   student_id     name grade\n",
            "0           1    Alice     A\n",
            "1           2      Bob   NaN\n",
            "2           3  Charlie     B\n"
          ]
        }
      ],
      "source": [
        "import pandas as pd\n",
        "\n",
        "df_students = pd.DataFrame({\n",
        "    'student_id': [1, 2, 3],\n",
        "    'name': ['Alice', 'Bob', 'Charlie']\n",
        "})\n",
        "df_grades = pd.DataFrame({\n",
        "    'student_id': [1, 3],\n",
        "    'grade': ['A', 'B']\n",
        "})\n",
        "combined_df = pd.merge(df_students, df_grades, on='student_id', how='left')\n",
        "print(combined_df)\n",
        "\n",
        "#page 16 Unit2"
      ]
    },
    {
      "cell_type": "code",
      "source": [
        "import pandas as pd\n",
        "df_books = pd.DataFrame({\n",
        "    'book_id': [1, 2],\n",
        "    'title': ['Python 101', 'Data Science']\n",
        "})\n",
        "df_borrowers = pd.DataFrame({\n",
        "    'id': [1, 3],\n",
        "    'borrower': ['Alice', 'Charlie']\n",
        "})\n",
        "combined_books_borrowers = pd.merge(df_books, df_borrowers, left_on='book_id', right_on='id', how='outer')\n",
        "print(combined_books_borrowers)\n",
        "\n",
        "#page 16 Unit2"
      ],
      "metadata": {
        "colab": {
          "base_uri": "https://localhost:8080/"
        },
        "id": "ODRgaQ7ZJbew",
        "outputId": "2f2da038-15c9-4a5b-8f95-d98889161d92"
      },
      "execution_count": 52,
      "outputs": [
        {
          "output_type": "stream",
          "name": "stdout",
          "text": [
            "   book_id         title   id borrower\n",
            "0      1.0    Python 101  1.0    Alice\n",
            "1      2.0  Data Science  NaN      NaN\n",
            "2      NaN           NaN  3.0  Charlie\n"
          ]
        }
      ]
    },
    {
      "cell_type": "code",
      "source": [
        "import pandas as pd\n",
        "df_orders = pd.DataFrame({\n",
        "    'order_id': [101, 102, 103, 104, 102, 105],\n",
        "    'customer_id': [1, 2, 1, 3, 2, 4],\n",
        "    'product': ['Laptop', 'Phone', 'Laptop', 'Tablet', 'Phone', 'Monitor'],\n",
        "    'quantity': [1, 2, 1, 1, 2, 2],\n",
        "    'order_date': ['2023-01-01', '2023-01-02', '2023-01-01',\n",
        "                   '2023-01-03', '2023-01-02', '2023-01-04']\n",
        "})\n",
        "df_orders_cleaned = df_orders.drop_duplicates()\n",
        "print(df_orders_cleaned)\n",
        "\n",
        "#page 54 Unit2"
      ],
      "metadata": {
        "colab": {
          "base_uri": "https://localhost:8080/"
        },
        "id": "5R6lRYfDKspC",
        "outputId": "880e0a6e-2c40-48ec-b896-e7d38135618b"
      },
      "execution_count": 50,
      "outputs": [
        {
          "output_type": "stream",
          "name": "stdout",
          "text": [
            "   order_id  customer_id  product  quantity  order_date\n",
            "0       101            1   Laptop         1  2023-01-01\n",
            "1       102            2    Phone         2  2023-01-02\n",
            "2       103            1   Laptop         1  2023-01-01\n",
            "3       104            3   Tablet         1  2023-01-03\n",
            "5       105            4  Monitor         2  2023-01-04\n"
          ]
        }
      ]
    },
    {
      "cell_type": "code",
      "source": [
        "import pandas as pd\n",
        "df_employees = pd.DataFrame({\n",
        "    'employee_id': [1, 2, 3, 4, 5, 6],\n",
        "    'name': ['Alice', 'Bob', 'Charlie', 'David', 'Emma', 'Frank'],\n",
        "    'department': ['Sales', None, 'IT', 'Sales', None, 'IT'],\n",
        "    'salary': [50000, None, 60000, 52000, None, None],\n",
        "    'join_date': ['2020-01-15', '2019-03-22', None, '2021-06-18', None,\n",
        "                  '2022-01-01']\n",
        "})\n",
        "missing_values = df_employees.isnull().sum()\n",
        "print(\"Identified missing values:\")\n",
        "print(missing_values,\"\\n\\n\")\n",
        "df_dropped = df_employees.dropna()\n",
        "print(\"Dropped rows with missing values:\")\n",
        "print(df_dropped,\"\\n\\n\")\n",
        "df_filled = df_employees.fillna({\n",
        "    'department': 'Unknown',\n",
        "    'salary': df_employees['salary'].median(),\n",
        "    'join_date': '2020-01-01'\n",
        "})\n",
        "print(\"Filled the missing values:\")\n",
        "print(df_filled,\"\\n\\n\")\n",
        "avg_salary = df_filled.groupby('department')['salary'].median()\n",
        "print(\"Average salary per department:\")\n",
        "print(avg_salary)\n",
        "\n",
        "#page 118 Unit2"
      ],
      "metadata": {
        "colab": {
          "base_uri": "https://localhost:8080/"
        },
        "id": "gKd8EwZFL1xW",
        "outputId": "ff62564b-ebaf-43a6-91ad-ffb4a82c3277"
      },
      "execution_count": 56,
      "outputs": [
        {
          "output_type": "stream",
          "name": "stdout",
          "text": [
            "Identified missing values:\n",
            "employee_id    0\n",
            "name           0\n",
            "department     2\n",
            "salary         3\n",
            "join_date      2\n",
            "dtype: int64 \n",
            "\n",
            "\n",
            "Dropped rows with missing values:\n",
            "   employee_id   name department   salary   join_date\n",
            "0            1  Alice      Sales  50000.0  2020-01-15\n",
            "3            4  David      Sales  52000.0  2021-06-18 \n",
            "\n",
            "\n",
            "Filled the missing values:\n",
            "   employee_id     name department   salary   join_date\n",
            "0            1    Alice      Sales  50000.0  2020-01-15\n",
            "1            2      Bob    Unknown  52000.0  2019-03-22\n",
            "2            3  Charlie         IT  60000.0  2020-01-01\n",
            "3            4    David      Sales  52000.0  2021-06-18\n",
            "4            5     Emma    Unknown  52000.0  2020-01-01\n",
            "5            6    Frank         IT  52000.0  2022-01-01 \n",
            "\n",
            "\n",
            "Average salary per department:\n",
            "department\n",
            "IT         56000.0\n",
            "Sales      51000.0\n",
            "Unknown    52000.0\n",
            "Name: salary, dtype: float64\n"
          ]
        }
      ]
    },
    {
      "cell_type": "code",
      "source": [
        "import pandas as pd\n",
        "df_temperature = pd.DataFrame({\n",
        "    'date': ['2024-01-01', '2024-01-02', '2024-01-03', '2024-01-04', '2024-01-05'],\n",
        "    'temperature': [30.0, None, 32.0, None, 31.0]\n",
        "})\n",
        "df_temperature['temperature'] = df_temperature['temperature'].fillna(method='ffill')\n",
        "print(df_temperature)\n",
        "\n",
        "#page 96 Unit2"
      ],
      "metadata": {
        "colab": {
          "base_uri": "https://localhost:8080/"
        },
        "id": "quCy119CNNy3",
        "outputId": "fafc9a3a-b8b3-42a8-811e-26f70a2d546f"
      },
      "execution_count": 61,
      "outputs": [
        {
          "output_type": "stream",
          "name": "stdout",
          "text": [
            "         date  temperature\n",
            "0  2024-01-01         30.0\n",
            "1  2024-01-02         30.0\n",
            "2  2024-01-03         32.0\n",
            "3  2024-01-04         32.0\n",
            "4  2024-01-05         31.0\n"
          ]
        },
        {
          "output_type": "stream",
          "name": "stderr",
          "text": [
            "<ipython-input-61-dd39de8118f2>:6: FutureWarning: Series.fillna with 'method' is deprecated and will raise in a future version. Use obj.ffill() or obj.bfill() instead.\n",
            "  df_temperature['temperature'] = df_temperature['temperature'].fillna(method='ffill')\n"
          ]
        }
      ]
    },
    {
      "cell_type": "code",
      "source": [
        "import pandas as pd\n",
        "df_sales=pd.DataFrame({\n",
        "    'product':['A','B','C','D','E'],\n",
        "    'Quantity Sold':[100.0,None,50.0,None,80.0],\n",
        "    'Price':[20.0,25.0,None,None,30.0],\n",
        "    'Date':['2023-01-01','2023-01-02','2023-01-03','2023-01-04','2023-01-05']\n",
        "})\n",
        "print(\"Original DataFrame:\")\n",
        "print(df_sales,\"\\n\\n\")\n",
        "df_sales['Quantity Sold']=df_sales['Quantity Sold'].fillna(0)\n",
        "df_sales['Price']=df_sales['Price'].fillna(df_sales['Price'].mean())\n",
        "print(\"\\n DataFrame after filling the missing values.\")\n",
        "print(df_sales)\n",
        "\n",
        "#page 96 Unit2"
      ],
      "metadata": {
        "colab": {
          "base_uri": "https://localhost:8080/"
        },
        "id": "vOlmqZBhPmU3",
        "outputId": "058feb6f-19a9-4efb-d1bc-edc31137fe2f"
      },
      "execution_count": 47,
      "outputs": [
        {
          "output_type": "stream",
          "name": "stdout",
          "text": [
            "Original DataFrame:\n",
            "  product  Quantity Sold  Price        Date\n",
            "0       A          100.0   20.0  2023-01-01\n",
            "1       B            NaN   25.0  2023-01-02\n",
            "2       C           50.0    NaN  2023-01-03\n",
            "3       D            NaN    NaN  2023-01-04\n",
            "4       E           80.0   30.0  2023-01-05 \n",
            "\n",
            "\n",
            "\n",
            " DataFrame after filling the missing values.\n",
            "  product  Quantity Sold  Price        Date\n",
            "0       A          100.0   20.0  2023-01-01\n",
            "1       B            0.0   25.0  2023-01-02\n",
            "2       C           50.0   25.0  2023-01-03\n",
            "3       D            0.0   25.0  2023-01-04\n",
            "4       E           80.0   30.0  2023-01-05\n"
          ]
        }
      ]
    },
    {
      "cell_type": "code",
      "source": [
        "import pandas as pd\n",
        "df_scores=pd.DataFrame({\n",
        "    'Student_id':[1,2,3,4,5],\n",
        "    'Score':[45.0,67.0,85.0,92.0,55.0]\n",
        "})\n",
        "bins=[0,60,75,90,100]\n",
        "labels=['Low','Medium','High','Very High']\n",
        "df_scores['category']=pd.cut(df_scores['Score'],bins=bins,labels=labels)\n",
        "print(df_scores)\n",
        "\n",
        "#page 65 Unit2"
      ],
      "metadata": {
        "colab": {
          "base_uri": "https://localhost:8080/"
        },
        "id": "AWzBH8sESHRg",
        "outputId": "9725f751-b6bd-4a15-dd54-0f1ddf0dbac1"
      },
      "execution_count": 46,
      "outputs": [
        {
          "output_type": "stream",
          "name": "stdout",
          "text": [
            "   Student_id  Score   category\n",
            "0           1   45.0        Low\n",
            "1           2   67.0     Medium\n",
            "2           3   85.0       High\n",
            "3           4   92.0  Very High\n",
            "4           5   55.0        Low\n"
          ]
        }
      ]
    },
    {
      "cell_type": "code",
      "source": [
        "import pandas as pd\n",
        "df_math_score=pd.DataFrame({\n",
        "    'Student ID': [1, 2, 3, 4, 5, 6, 7, 8, 9, 10],\n",
        "    'Score': [85, 90, 75, 80, 95, 70, 88, 76, 92, 84]\n",
        "})\n",
        "sample_without_replacement=df_math_scores.sample(n=5, replace=False)\n",
        "print(\"Sample without replacement:\")\n",
        "print(sample_without_replacement)\n",
        "sample_with_replacement=df_math_scores.sample(n=5, replace=True)\n",
        "print(\"\\nSample with replacement:\")\n",
        "print(sample_with_replacement)\n",
        "\n",
        "#page 140 Unit2"
      ],
      "metadata": {
        "colab": {
          "base_uri": "https://localhost:8080/"
        },
        "id": "1v4mDOh7TOz5",
        "outputId": "6114031f-4a9a-4419-9a0b-66d8ab683aef"
      },
      "execution_count": 45,
      "outputs": [
        {
          "output_type": "stream",
          "name": "stdout",
          "text": [
            "Sample without replacement:\n",
            "   Student ID  Score\n",
            "1           2     90\n",
            "4           5     95\n",
            "9          10     84\n",
            "2           3     75\n",
            "8           9     92\n",
            "\n",
            "Sample with replacement:\n",
            "   Student ID  Score\n",
            "5           6     70\n",
            "3           4     80\n",
            "4           5     95\n",
            "4           5     95\n",
            "8           9     92\n"
          ]
        }
      ]
    }
  ]
}